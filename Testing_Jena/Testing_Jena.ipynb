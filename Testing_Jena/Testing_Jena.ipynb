{
  "nbformat": 4,
  "nbformat_minor": 0,
  "metadata": {
    "colab": {
      "provenance": []
    },
    "kernelspec": {
      "name": "python3",
      "display_name": "Python 3"
    },
    "language_info": {
      "name": "python"
    }
  },
  "cells": [
    {
      "cell_type": "code",
      "source": [
        "!pip install rdflib\n",
        "!pip install owlready2\n",
        "!pip install owlrl\n",
        "from rdflib import Graph, Namespace, RDF, Literal,RDFS, BNode, XSD\n",
        "from rdflib.plugins.sparql import prepareQuery\n",
        "import owlrl"
      ],
      "metadata": {
        "colab": {
          "base_uri": "https://localhost:8080/"
        },
        "id": "WqNQ2EK8Zdx_",
        "outputId": "e1937380-8441-4f88-ce3e-a08556788351"
      },
      "execution_count": 26,
      "outputs": [
        {
          "output_type": "stream",
          "name": "stdout",
          "text": [
            "Requirement already satisfied: rdflib in /usr/local/lib/python3.10/dist-packages (7.0.0)\n",
            "Requirement already satisfied: isodate<0.7.0,>=0.6.0 in /usr/local/lib/python3.10/dist-packages (from rdflib) (0.6.1)\n",
            "Requirement already satisfied: pyparsing<4,>=2.1.0 in /usr/local/lib/python3.10/dist-packages (from rdflib) (3.1.2)\n",
            "Requirement already satisfied: six in /usr/local/lib/python3.10/dist-packages (from isodate<0.7.0,>=0.6.0->rdflib) (1.16.0)\n",
            "Requirement already satisfied: owlready2 in /usr/local/lib/python3.10/dist-packages (0.46)\n",
            "Requirement already satisfied: owlrl in /usr/local/lib/python3.10/dist-packages (6.0.2)\n",
            "Requirement already satisfied: rdflib>=6.0.2 in /usr/local/lib/python3.10/dist-packages (from owlrl) (7.0.0)\n",
            "Requirement already satisfied: isodate<0.7.0,>=0.6.0 in /usr/local/lib/python3.10/dist-packages (from rdflib>=6.0.2->owlrl) (0.6.1)\n",
            "Requirement already satisfied: pyparsing<4,>=2.1.0 in /usr/local/lib/python3.10/dist-packages (from rdflib>=6.0.2->owlrl) (3.1.2)\n",
            "Requirement already satisfied: six in /usr/local/lib/python3.10/dist-packages (from isodate<0.7.0,>=0.6.0->rdflib>=6.0.2->owlrl) (1.16.0)\n"
          ]
        }
      ]
    },
    {
      "cell_type": "code",
      "source": [
        "# Load the ontology file\n",
        "g = Graph()\n",
        "g.parse('/content/moviesV4.rdf')"
      ],
      "metadata": {
        "colab": {
          "base_uri": "https://localhost:8080/"
        },
        "id": "j3d1zmXKm2UT",
        "outputId": "b038ff65-0b43-4088-ca54-5c3c4f22f002"
      },
      "execution_count": 27,
      "outputs": [
        {
          "output_type": "execute_result",
          "data": {
            "text/plain": [
              "<Graph identifier=Nafd47964531d420f90a2f52f428b9b17 (<class 'rdflib.graph.Graph'>)>"
            ]
          },
          "metadata": {},
          "execution_count": 27
        }
      ]
    },
    {
      "cell_type": "code",
      "source": [
        "# Define the namespaces used in the ontology\n",
        "moviesV1 = Namespace(\"http://www.semanticweb.org/dataset/ontologies/2024/4/moviesV1#\")\n",
        "owl = Namespace(\"http://www.w3.org/2002/07/owl#\")\n",
        "rdf = Namespace(\"http://www.w3.org/1999/02/22-rdf-syntax-ns#\")"
      ],
      "metadata": {
        "id": "LMVdqTXAmCCZ"
      },
      "execution_count": 28,
      "outputs": []
    },
    {
      "cell_type": "markdown",
      "source": [
        "# **Task 1: Display all Persons without Query or Inference**"
      ],
      "metadata": {
        "id": "FkX6TL58gWNS"
      }
    },
    {
      "cell_type": "code",
      "execution_count": 29,
      "metadata": {
        "colab": {
          "base_uri": "https://localhost:8080/"
        },
        "id": "iZ2Qs0VdY6rP",
        "outputId": "5f634d51-36c1-4c84-8f93-31acaaf622ce"
      },
      "outputs": [
        {
          "output_type": "stream",
          "name": "stdout",
          "text": [
            "Person: Quentin_Tarantino\n",
            "Person: Frank_Darabont\n",
            "Person: Bradley_Cooper\n",
            "Person: Tim_Robbins\n",
            "Person: Jon_Lucas\n",
            "Person: Taika_Waititi\n",
            "Person: Matthew_McConaughey\n",
            "Person: Christian_Bale\n",
            "Person: Todd_Phillips\n",
            "Person: Paul_Thomas_Anderson\n",
            "Person: Uma_Thurman\n",
            "Person: Francis_Ford_Coppola\n",
            "Person: Leonardo_DiCaprio\n",
            "Person: Marlon_Brando\n",
            "Person: John_Travolta\n",
            "Person: Edgar_Wright\n",
            "Person: Stephen_King\n",
            "Person: Mario_Puzo\n",
            "Person: Christopher_Nolan\n"
          ]
        }
      ],
      "source": [
        "persons = set()\n",
        "\n",
        "# Iterate through all triples in the graph and add Actors, Directors, and Writers to the set\n",
        "for subj, pred, obj in g:\n",
        "    if pred == RDF.type and (obj == moviesV1.Actor or obj == moviesV1.Director or obj == moviesV1.Writer):\n",
        "        persons.add(str(subj))\n",
        "\n",
        "for person in persons:\n",
        "    name = person.split('#')[-1]\n",
        "    print(f\"Person: {name}\")\n"
      ]
    },
    {
      "cell_type": "markdown",
      "source": [
        "# **Task 2: Display all Persons by Query only**"
      ],
      "metadata": {
        "id": "IlWtUCS7g5h5"
      }
    },
    {
      "cell_type": "code",
      "source": [
        "query = \"\"\"\n",
        "    SELECT DISTINCT ?person WHERE {\n",
        "        { ?person rdf:type moviesV1:Actor . }\n",
        "        UNION\n",
        "        { ?person rdf:type moviesV1:Director . }\n",
        "        UNION\n",
        "        { ?person rdf:type moviesV1:Writer . }\n",
        "    }\n",
        "\"\"\"\n",
        "\n",
        "# Execute the query\n",
        "results = g.query(query)\n",
        "\n",
        "# Print the results\n",
        "for row in results:\n",
        "  name = str(row[0]).split('#')[-1]\n",
        "  print(f\"Actor: {name}\")\n"
      ],
      "metadata": {
        "colab": {
          "base_uri": "https://localhost:8080/"
        },
        "id": "76qMAA3RhGKg",
        "outputId": "6d26bb3c-cad3-4b2f-d5b7-d1a9ec0954d2"
      },
      "execution_count": 30,
      "outputs": [
        {
          "output_type": "stream",
          "name": "stdout",
          "text": [
            "Actor: Bradley_Cooper\n",
            "Actor: Christian_Bale\n",
            "Actor: Edgar_Wright\n",
            "Actor: John_Travolta\n",
            "Actor: Leonardo_DiCaprio\n",
            "Actor: Marlon_Brando\n",
            "Actor: Matthew_McConaughey\n",
            "Actor: Paul_Thomas_Anderson\n",
            "Actor: Quentin_Tarantino\n",
            "Actor: Taika_Waititi\n",
            "Actor: Tim_Robbins\n",
            "Actor: Uma_Thurman\n",
            "Actor: Christopher_Nolan\n",
            "Actor: Francis_Ford_Coppola\n",
            "Actor: Frank_Darabont\n",
            "Actor: Todd_Phillips\n",
            "Actor: Jon_Lucas\n",
            "Actor: Mario_Puzo\n",
            "Actor: Stephen_King\n"
          ]
        }
      ]
    },
    {
      "cell_type": "markdown",
      "source": [
        "# **Task 3: Display all Persons by Inference only**"
      ],
      "metadata": {
        "id": "fp-yURv9g7Vc"
      }
    },
    {
      "cell_type": "code",
      "source": [
        "owlrl.DeductiveClosure(owlrl.OWLRL_Semantics).expand(g)\n",
        "\n",
        "# Display all the Actors\n",
        "for subj, pred, obj in g.triples((None, RDF.type, moviesV1.Actor)):\n",
        "    name = subj.split('#')[-1]\n",
        "    print(f\"Person: {name}\")"
      ],
      "metadata": {
        "colab": {
          "base_uri": "https://localhost:8080/"
        },
        "id": "yqb-BkQchHHs",
        "outputId": "c2a214a4-dca8-4161-ee58-c456a3100962"
      },
      "execution_count": 31,
      "outputs": [
        {
          "output_type": "stream",
          "name": "stdout",
          "text": [
            "Person: Bradley_Cooper\n",
            "Person: Christian_Bale\n",
            "Person: Edgar_Wright\n",
            "Person: John_Travolta\n",
            "Person: Leonardo_DiCaprio\n",
            "Person: Marlon_Brando\n",
            "Person: Matthew_McConaughey\n",
            "Person: Paul_Thomas_Anderson\n",
            "Person: Quentin_Tarantino\n",
            "Person: Taika_Waititi\n",
            "Person: Tim_Robbins\n",
            "Person: Uma_Thurman\n",
            "Person: Thor:Ragnarok\n"
          ]
        }
      ]
    },
    {
      "cell_type": "markdown",
      "source": [
        "# **Task 4: Display Movie properties if Movie Exists**"
      ],
      "metadata": {
        "id": "Iqa0TAPng7et"
      }
    },
    {
      "cell_type": "code",
      "source": [
        "# Read the name of the movie\n",
        "movie_name = input(\"Enter a movie name: \")\n",
        "movie = moviesV1[movie_name]\n",
        "\n",
        "# Check if the movie exists in the ontology\n",
        "if (movie, None, None) not in g:\n",
        "    print(\"Error: Movie does not exist\")\n",
        "else:\n",
        "    # Get and display the movie's year, country, genres, and actors\n",
        "    year = g.value(movie, moviesV1.year)\n",
        "    country = g.value(movie, moviesV1.country)\n",
        "    genres = [str(obj).split('#')[-1] for obj in g.objects(movie, moviesV1.hasGenre)]\n",
        "    actors = [str(obj).split('#')[-1] for obj in g.objects(movie, moviesV1.hasActor)]\n",
        "    print(f\"Year: {year}, Country: {country}, Genres: {genres}, Actors: {actors}\")"
      ],
      "metadata": {
        "id": "ApSvOMPFhH-u",
        "colab": {
          "base_uri": "https://localhost:8080/"
        },
        "outputId": "438a586c-0936-4946-ead0-ddcdc9b2aa7f"
      },
      "execution_count": 32,
      "outputs": [
        {
          "output_type": "stream",
          "name": "stdout",
          "text": [
            "Enter a movie name: Thor:Ragnarok\n",
            "Year: 2017, Country: USA, Genres: ['Action'], Actors: ['Taika_Waititi']\n"
          ]
        }
      ]
    },
    {
      "cell_type": "markdown",
      "source": [
        "# **Task 5: Add a Rule for a New Class, ActorDirector**"
      ],
      "metadata": {
        "id": "RNVCCRatg8MF"
      }
    },
    {
      "cell_type": "code",
      "source": [
        "# Create a new class ActorDirector\n",
        "ActorDirector = BNode()\n",
        "g.add((ActorDirector, RDF.type, RDFS.Class))\n",
        "g.add((ActorDirector, RDFS.label, Literal(\"ActorDirector\")))\n",
        "\n",
        "# Find all persons that are both actors and directors\n",
        "for person in g.subjects(RDF.type, moviesV1.Person):\n",
        "    is_actor = (person, moviesV1.isActorOf, None) in g\n",
        "    is_director = (person, moviesV1.isDirectorOf, None) in g\n",
        "    if is_actor and is_director:\n",
        "        # Add the person to the ActorDirector class\n",
        "        g.add((person, RDF.type, ActorDirector))\n",
        "\n",
        "# Display all ActorDirectors\n",
        "for actor_director in g.subjects(RDF.type, ActorDirector):\n",
        "    ad = str(actor_director).split('#')[-1]\n",
        "    print(f\"ActorDirector: {ad}\")\n"
      ],
      "metadata": {
        "colab": {
          "base_uri": "https://localhost:8080/"
        },
        "id": "SjuyFj4WhIkZ",
        "outputId": "b4be1b5e-c0ec-4191-9de5-db3f5c2dc427"
      },
      "execution_count": 33,
      "outputs": [
        {
          "output_type": "stream",
          "name": "stdout",
          "text": [
            "ActorDirector: Paul_Thomas_Anderson\n",
            "ActorDirector: Edgar_Wright\n",
            "ActorDirector: Taika_Waititi\n",
            "ActorDirector: Quentin_Tarantino\n"
          ]
        }
      ]
    },
    {
      "cell_type": "markdown",
      "source": [
        "# **Task 6: Add New Rules**\n"
      ],
      "metadata": {
        "id": "7tm_wTd5g8T7"
      }
    },
    {
      "cell_type": "code",
      "source": [
        "# Rule 1: If a person is a writer and a director, they are a WriterDirector\n",
        "WriterDirector = BNode()\n",
        "g.add((WriterDirector, RDF.type, RDFS.Class))\n",
        "g.add((WriterDirector, RDFS.label, Literal(\"WriterDirector\")))\n",
        "\n",
        "for person in g.subjects(RDF.type, moviesV1.Person):\n",
        "    is_writer = (person, moviesV1.isWriterOf, None) in g\n",
        "    is_director = (person, moviesV1.isDirectorOf, None) in g\n",
        "    if is_writer and is_director:\n",
        "        g.add((person, RDF.type, WriterDirector))\n",
        "\n",
        "# Rule 2: If a movie has more than one genre, it is a MultiGenreMovie.\n",
        "MultiGenreMovie = BNode()\n",
        "g.add((MultiGenreMovie, RDF.type, RDFS.Class))\n",
        "g.add((MultiGenreMovie, RDFS.label, Literal(\"MultiGenreMovie\")))\n",
        "\n",
        "for movie in g.subjects(RDF.type, moviesV1.Movie):\n",
        "    genres = list(g.objects(movie, moviesV1.hasGenre))\n",
        "    if len(genres) > 1:\n",
        "        g.add((movie, RDF.type, MultiGenreMovie))\n",
        "\n",
        "# Rule 3: If a movie is made after 2000,it is a ModernMovie.\n",
        "ModernMovie = BNode()\n",
        "g.add((ModernMovie, RDF.type, RDFS.Class))\n",
        "g.add((ModernMovie, RDFS.label, Literal(\"ModernMovie\")))\n",
        "for subj, obj in g.subject_objects(moviesV1.year):\n",
        "    if int(obj) > 2000:\n",
        "        g.add((subj, RDF.type, ModernMovie))\n",
        "\n",
        "print(\"WriterDirectors:\")\n",
        "for writer_director in g.subjects(RDF.type, WriterDirector):\n",
        "    wd = str(writer_director).split('#')[-1]\n",
        "    print(f\"WriterDirector: {wd}\")\n",
        "\n",
        "print(\"\\nMultiGenreMovies:\")\n",
        "# Display all MultiGenreMovies\n",
        "for multi_genre_movie in g.subjects(RDF.type, MultiGenreMovie):\n",
        "    mg = str(multi_genre_movie).split('#')[-1]\n",
        "    print(f\"MultiGenreMovie: {mg}\")\n",
        "\n",
        "print(\"\\nModernMovies:\")\n",
        "for s in g.subjects(RDF.type, ModernMovie):\n",
        "    mm = str(s).split('#')[-1]\n",
        "    print(f\"ModernMovie: {mm}\")\n"
      ],
      "metadata": {
        "id": "vZw7-sDphJDL",
        "colab": {
          "base_uri": "https://localhost:8080/"
        },
        "outputId": "34821e95-57c3-4880-8fa5-84fe95040a4e"
      },
      "execution_count": 34,
      "outputs": [
        {
          "output_type": "stream",
          "name": "stdout",
          "text": [
            "WriterDirectors:\n",
            "WriterDirector: Paul_Thomas_Anderson\n",
            "WriterDirector: Edgar_Wright\n",
            "WriterDirector: Taika_Waititi\n",
            "WriterDirector: Christopher_Nolan\n",
            "WriterDirector: Quentin_Tarantino\n",
            "\n",
            "MultiGenreMovies:\n",
            "MultiGenreMovie: Baby_Driver\n",
            "MultiGenreMovie: Boogie_Nights\n",
            "MultiGenreMovie: Inception\n",
            "MultiGenreMovie: Kill_Bill\n",
            "MultiGenreMovie: Pulp_Fiction\n",
            "MultiGenreMovie: Shaun_of__the_Dead\n",
            "MultiGenreMovie: The_Dark_Knight\n",
            "MultiGenreMovie: The_Godfather\n",
            "\n",
            "ModernMovies:\n",
            "ModernMovie: Baby_Driver\n",
            "ModernMovie: Thor:Ragnarok\n",
            "ModernMovie: Inception\n",
            "ModernMovie: Interstellar\n",
            "ModernMovie: Jojo_Rabbit\n",
            "ModernMovie: Kill_Bill\n",
            "ModernMovie: Shaun_of__the_Dead\n",
            "ModernMovie: The_Dark_Knight\n",
            "ModernMovie: The_Hangover\n",
            "ModernMovie: There_Will_Be_Blood\n"
          ]
        }
      ]
    }
  ]
}