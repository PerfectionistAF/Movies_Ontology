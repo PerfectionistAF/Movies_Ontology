{
 "cells": [
  {
   "cell_type": "code",
   "execution_count": 1,
   "id": "431c5f2b-57f0-45c7-9024-ca283be2cfbd",
   "metadata": {},
   "outputs": [
    {
     "name": "stdout",
     "output_type": "stream",
     "text": [
      "http://www.semanticweb.org/dataset/ontologies/2024/4/moviesV1#Bradley_Cooper\n",
      "http://www.semanticweb.org/dataset/ontologies/2024/4/moviesV1#Christian_Bale\n",
      "http://www.semanticweb.org/dataset/ontologies/2024/4/moviesV1#Edgar_Wright\n",
      "http://www.semanticweb.org/dataset/ontologies/2024/4/moviesV1#John_Travolta\n",
      "http://www.semanticweb.org/dataset/ontologies/2024/4/moviesV1#Leonardo_DiCaprio\n",
      "http://www.semanticweb.org/dataset/ontologies/2024/4/moviesV1#Marlon_Brando\n",
      "http://www.semanticweb.org/dataset/ontologies/2024/4/moviesV1#Matthew_McConaughey\n",
      "http://www.semanticweb.org/dataset/ontologies/2024/4/moviesV1#Paul_Thomas_Anderson\n",
      "http://www.semanticweb.org/dataset/ontologies/2024/4/moviesV1#Quentin_Tarantino\n",
      "http://www.semanticweb.org/dataset/ontologies/2024/4/moviesV1#Taika_Waititi\n",
      "http://www.semanticweb.org/dataset/ontologies/2024/4/moviesV1#Tim_Robbins\n",
      "http://www.semanticweb.org/dataset/ontologies/2024/4/moviesV1#Uma_Thurman\n",
      "http://www.semanticweb.org/dataset/ontologies/2024/4/moviesV1#Christopher_Nolan\n",
      "http://www.semanticweb.org/dataset/ontologies/2024/4/moviesV1#Edgar_Wright\n",
      "http://www.semanticweb.org/dataset/ontologies/2024/4/moviesV1#Francis_Ford_Coppola\n",
      "http://www.semanticweb.org/dataset/ontologies/2024/4/moviesV1#Frank_Darabont\n",
      "http://www.semanticweb.org/dataset/ontologies/2024/4/moviesV1#Paul_Thomas_Anderson\n",
      "http://www.semanticweb.org/dataset/ontologies/2024/4/moviesV1#Quentin_Tarantino\n",
      "http://www.semanticweb.org/dataset/ontologies/2024/4/moviesV1#Taika_Waititi\n",
      "http://www.semanticweb.org/dataset/ontologies/2024/4/moviesV1#Todd_Phillips\n",
      "http://www.semanticweb.org/dataset/ontologies/2024/4/moviesV1#Christopher_Nolan\n",
      "http://www.semanticweb.org/dataset/ontologies/2024/4/moviesV1#Edgar_Wright\n",
      "http://www.semanticweb.org/dataset/ontologies/2024/4/moviesV1#Jon_Lucas\n",
      "http://www.semanticweb.org/dataset/ontologies/2024/4/moviesV1#Mario_Puzo\n",
      "http://www.semanticweb.org/dataset/ontologies/2024/4/moviesV1#Paul_Thomas_Anderson\n",
      "http://www.semanticweb.org/dataset/ontologies/2024/4/moviesV1#Quentin_Tarantino\n",
      "http://www.semanticweb.org/dataset/ontologies/2024/4/moviesV1#Stephen_King\n",
      "http://www.semanticweb.org/dataset/ontologies/2024/4/moviesV1#Taika_Waititi\n"
     ]
    }
   ],
   "source": [
    "## view persons without query or inference ## 18 total results\n",
    "%run E:/Jupyter/Movies/Jena1.py"
   ]
  },
  {
   "cell_type": "code",
   "execution_count": 4,
   "id": "4bf36543-4678-4af8-b10f-ef9431125120",
   "metadata": {},
   "outputs": [
    {
     "name": "stdout",
     "output_type": "stream",
     "text": [
      "http://www.semanticweb.org/dataset/ontologies/2024/4/moviesV1#Bradley_Cooper\n",
      "http://www.semanticweb.org/dataset/ontologies/2024/4/moviesV1#Christian_Bale\n",
      "http://www.semanticweb.org/dataset/ontologies/2024/4/moviesV1#Edgar_Wright\n",
      "http://www.semanticweb.org/dataset/ontologies/2024/4/moviesV1#John_Travolta\n",
      "http://www.semanticweb.org/dataset/ontologies/2024/4/moviesV1#Leonardo_DiCaprio\n",
      "http://www.semanticweb.org/dataset/ontologies/2024/4/moviesV1#Marlon_Brando\n",
      "http://www.semanticweb.org/dataset/ontologies/2024/4/moviesV1#Matthew_McConaughey\n",
      "http://www.semanticweb.org/dataset/ontologies/2024/4/moviesV1#Paul_Thomas_Anderson\n",
      "http://www.semanticweb.org/dataset/ontologies/2024/4/moviesV1#Quentin_Tarantino\n",
      "http://www.semanticweb.org/dataset/ontologies/2024/4/moviesV1#Taika_Waititi\n",
      "http://www.semanticweb.org/dataset/ontologies/2024/4/moviesV1#Tim_Robbins\n",
      "http://www.semanticweb.org/dataset/ontologies/2024/4/moviesV1#Uma_Thurman\n",
      "http://www.semanticweb.org/dataset/ontologies/2024/4/moviesV1#Christopher_Nolan\n",
      "http://www.semanticweb.org/dataset/ontologies/2024/4/moviesV1#Francis_Ford_Coppola\n",
      "http://www.semanticweb.org/dataset/ontologies/2024/4/moviesV1#Frank_Darabont\n",
      "http://www.semanticweb.org/dataset/ontologies/2024/4/moviesV1#Todd_Phillips\n",
      "http://www.semanticweb.org/dataset/ontologies/2024/4/moviesV1#Jon_Lucas\n",
      "http://www.semanticweb.org/dataset/ontologies/2024/4/moviesV1#Mario_Puzo\n",
      "http://www.semanticweb.org/dataset/ontologies/2024/4/moviesV1#Stephen_King\n"
     ]
    }
   ],
   "source": [
    "## fewer results because only actors and directors added\n",
    "## corrected to actors, directors, writers ## DISTINCT ONLY\n",
    "## query no inference\n",
    "%run E:/Jupyter/Movies/Jena2.py"
   ]
  },
  {
   "cell_type": "code",
   "execution_count": 7,
   "id": "5af7e055-5299-402d-b9bb-9124d701d1ab",
   "metadata": {},
   "outputs": [
    {
     "name": "stdout",
     "output_type": "stream",
     "text": [
      "http://www.semanticweb.org/dataset/ontologies/2024/4/moviesV1#Bradley_Cooper\n",
      "http://www.semanticweb.org/dataset/ontologies/2024/4/moviesV1#Christian_Bale\n",
      "http://www.semanticweb.org/dataset/ontologies/2024/4/moviesV1#Edgar_Wright\n",
      "http://www.semanticweb.org/dataset/ontologies/2024/4/moviesV1#John_Travolta\n",
      "http://www.semanticweb.org/dataset/ontologies/2024/4/moviesV1#Leonardo_DiCaprio\n",
      "http://www.semanticweb.org/dataset/ontologies/2024/4/moviesV1#Marlon_Brando\n",
      "http://www.semanticweb.org/dataset/ontologies/2024/4/moviesV1#Matthew_McConaughey\n",
      "http://www.semanticweb.org/dataset/ontologies/2024/4/moviesV1#Paul_Thomas_Anderson\n",
      "http://www.semanticweb.org/dataset/ontologies/2024/4/moviesV1#Quentin_Tarantino\n",
      "http://www.semanticweb.org/dataset/ontologies/2024/4/moviesV1#Taika_Waititi\n",
      "http://www.semanticweb.org/dataset/ontologies/2024/4/moviesV1#Tim_Robbins\n",
      "http://www.semanticweb.org/dataset/ontologies/2024/4/moviesV1#Uma_Thurman\n",
      "http://www.semanticweb.org/dataset/ontologies/2024/4/moviesV1#Thor:Ragnarok\n"
     ]
    }
   ],
   "source": [
    "## display Person in inference only\n",
    "%run E:/Jupyter/Movies/Jena3.py"
   ]
  },
  {
   "cell_type": "code",
   "execution_count": 10,
   "id": "199f535f-dc04-4f30-8747-9738f5b15253",
   "metadata": {},
   "outputs": [
    {
     "name": "stdin",
     "output_type": "stream",
     "text": [
      "Enter the name of a movie:  Pulp_Fiction\n"
     ]
    },
    {
     "name": "stdout",
     "output_type": "stream",
     "text": [
      "Year: 1994, Country: USA, Genre: http://www.semanticweb.org/dataset/ontologies/2024/4/moviesV1#Crime, Actor: http://www.semanticweb.org/dataset/ontologies/2024/4/moviesV1#John_Travolta\n",
      "Year: 1994, Country: USA, Genre: http://www.semanticweb.org/dataset/ontologies/2024/4/moviesV1#Thriller, Actor: http://www.semanticweb.org/dataset/ontologies/2024/4/moviesV1#John_Travolta\n",
      "Year: 1994, Country: USA, Genre: http://www.semanticweb.org/dataset/ontologies/2024/4/moviesV1#Crime, Actor: http://www.semanticweb.org/dataset/ontologies/2024/4/moviesV1#Quentin_Tarantino\n",
      "Year: 1994, Country: USA, Genre: http://www.semanticweb.org/dataset/ontologies/2024/4/moviesV1#Thriller, Actor: http://www.semanticweb.org/dataset/ontologies/2024/4/moviesV1#Quentin_Tarantino\n"
     ]
    }
   ],
   "source": [
    "## display error if movie doesn't exist\n",
    "## if exist show required data/object properties or individuals\n",
    "%run E:/Jupyter/Movies/Jena4.py"
   ]
  },
  {
   "cell_type": "code",
   "execution_count": 11,
   "id": "67c08b0d-f8a9-414f-b5eb-d75e541fc3b5",
   "metadata": {},
   "outputs": [
    {
     "name": "stdout",
     "output_type": "stream",
     "text": [
      "http://www.semanticweb.org/dataset/ontologies/2024/4/moviesV1#Edgar_Wright\n",
      "http://www.semanticweb.org/dataset/ontologies/2024/4/moviesV1#Paul_Thomas_Anderson\n",
      "http://www.semanticweb.org/dataset/ontologies/2024/4/moviesV1#Quentin_Tarantino\n",
      "http://www.semanticweb.org/dataset/ontologies/2024/4/moviesV1#Taika_Waititi\n"
     ]
    }
   ],
   "source": [
    "## Create new ActorDirector class to involve Persons who are both Actors and Directors\n",
    "%run E:/Jupyter/Movies/Jena5.py"
   ]
  },
  {
   "cell_type": "code",
   "execution_count": 12,
   "id": "8ad7f93d-4e7f-4235-9376-d5f835b260c1",
   "metadata": {},
   "outputs": [
    {
     "name": "stdout",
     "output_type": "stream",
     "text": [
      "ActorDirectors:\n",
      "http://www.semanticweb.org/dataset/ontologies/2024/4/moviesV1#Edgar_Wright\n",
      "http://www.semanticweb.org/dataset/ontologies/2024/4/moviesV1#Paul_Thomas_Anderson\n",
      "http://www.semanticweb.org/dataset/ontologies/2024/4/moviesV1#Quentin_Tarantino\n",
      "http://www.semanticweb.org/dataset/ontologies/2024/4/moviesV1#Taika_Waititi\n",
      "\n",
      "ThrillerMovies:\n",
      "http://www.semanticweb.org/dataset/ontologies/2024/4/moviesV1#Baby_Driver\n",
      "http://www.semanticweb.org/dataset/ontologies/2024/4/moviesV1#Inception\n",
      "http://www.semanticweb.org/dataset/ontologies/2024/4/moviesV1#Kill_Bill\n",
      "http://www.semanticweb.org/dataset/ontologies/2024/4/moviesV1#Pulp_Fiction\n",
      "http://www.semanticweb.org/dataset/ontologies/2024/4/moviesV1#There_Will_Be_Blood\n",
      "\n",
      "ModernMovies:\n",
      "http://www.semanticweb.org/dataset/ontologies/2024/4/moviesV1#Baby_Driver\n",
      "http://www.semanticweb.org/dataset/ontologies/2024/4/moviesV1#Thor:Ragnarok\n",
      "http://www.semanticweb.org/dataset/ontologies/2024/4/moviesV1#Inception\n",
      "http://www.semanticweb.org/dataset/ontologies/2024/4/moviesV1#Interstellar\n",
      "http://www.semanticweb.org/dataset/ontologies/2024/4/moviesV1#Jojo_Rabbit\n",
      "http://www.semanticweb.org/dataset/ontologies/2024/4/moviesV1#Kill_Bill\n",
      "http://www.semanticweb.org/dataset/ontologies/2024/4/moviesV1#Shaun_of__the_Dead\n",
      "http://www.semanticweb.org/dataset/ontologies/2024/4/moviesV1#The_Dark_Knight\n",
      "http://www.semanticweb.org/dataset/ontologies/2024/4/moviesV1#The_Hangover\n",
      "http://www.semanticweb.org/dataset/ontologies/2024/4/moviesV1#There_Will_Be_Blood\n"
     ]
    }
   ],
   "source": [
    "## create 3 different rules\n",
    "## if a Person is Writer and Director  =====> WriterDirector\n",
    "## if a person is an actor and their age is 0, they are a DeceasedActor\n",
    "## if a movie has genre > 1, then it is a MultiGenreMovie\n",
    "%run E:/Jupyter/Movies/Jena6.py"
   ]
  },
  {
   "cell_type": "code",
   "execution_count": null,
   "id": "61ae4652-ac39-479f-9ca0-1978b16fd029",
   "metadata": {},
   "outputs": [],
   "source": []
  }
 ],
 "metadata": {
  "kernelspec": {
   "display_name": "Python 3 (ipykernel)",
   "language": "python",
   "name": "python3"
  },
  "language_info": {
   "codemirror_mode": {
    "name": "ipython",
    "version": 3
   },
   "file_extension": ".py",
   "mimetype": "text/x-python",
   "name": "python",
   "nbconvert_exporter": "python",
   "pygments_lexer": "ipython3",
   "version": "3.11.7"
  }
 },
 "nbformat": 4,
 "nbformat_minor": 5
}
